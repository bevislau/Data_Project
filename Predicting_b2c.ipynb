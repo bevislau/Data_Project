{
  "nbformat": 4,
  "nbformat_minor": 0,
  "metadata": {
    "colab": {
      "provenance": [],
      "authorship_tag": "ABX9TyPP7Po/rJb3b5J8G/mhj718",
      "include_colab_link": true
    },
    "kernelspec": {
      "name": "python3",
      "display_name": "Python 3"
    },
    "language_info": {
      "name": "python"
    }
  },
  "cells": [
    {
      "cell_type": "markdown",
      "metadata": {
        "id": "view-in-github",
        "colab_type": "text"
      },
      "source": [
        "<a href=\"https://colab.research.google.com/github/bevislau/Data_Project/blob/main/Predicting_b2c.ipynb\" target=\"_parent\"><img src=\"https://colab.research.google.com/assets/colab-badge.svg\" alt=\"Open In Colab\"/></a>"
      ]
    },
    {
      "cell_type": "markdown",
      "source": [
        "# Predicting B2C Visitor Purchases – Classification Modeling with BigQuery ML\n",
        "\n",
        "This project applies a **binary classification model** using logistic regression to predict whether a B2B website visitor will convert into a customer. By analyzing user behavior data, the goal is to identify key factors that influence purchase intent and to build a predictive model that can support marketing and sales strategies.\n",
        "\n",
        "In this case study, we use the **BigQuery ML public sample dataset** provided by Google:  \n",
        "🔗 [BigQuery ML Templates Dataset](https://github.com/GoogleCloudPlatform/bigquery-ml-templates/tree/master/dataset)\n",
        "\n",
        "The dataset captures behavioral signals from B2B visitors, such as session activity, engagement time, and visit source, which are leveraged to train the model and make predictions.\n",
        "\n",
        "---\n",
        "\n",
        "## 🔑 Key Steps in the Project\n",
        "\n",
        "1. **Data Exploration & Preparation**  \n",
        "   Understand the schema, clean the data, and define the target variable.\n",
        "\n",
        "2. **Feature Engineering**  \n",
        "   Derive meaningful behavioral features from raw logs to feed into the model.\n",
        "\n",
        "3. **Model Creation**  \n",
        "   Use logistic regression via BigQuery ML to build a classification model that predicts conversions.\n",
        "\n",
        "4. **Model Evaluation**  \n",
        "   Assess model performance using evaluation metrics like ROC AUC and precision-recall.\n",
        "\n",
        "5. **Model Prediction**  \n",
        "   Apply the trained model to predict user conversions for a selected day, informing future marketing activities.\n",
        "\n",
        "6. **Recommendations & Next Steps**  \n",
        "   Suggest ways to apply the model in real-world campaigns and propose future enhancements.\n"
      ],
      "metadata": {
        "id": "MXRWrZXZG0Gf"
      }
    },
    {
      "cell_type": "code",
      "execution_count": null,
      "metadata": {
        "id": "AaD508GrGsgM"
      },
      "outputs": [],
      "source": [
        "from google.colab import auth\n",
        "auth.authenticate_user()\n",
        "\n",
        "from google.cloud import bigquery\n",
        "client = bigquery.Client(project='gifted-country-461816-i9')\n",
        "\n",
        "import matplotlib.pyplot as plt\n",
        "import seaborn as sns\n",
        "import pandas as pd"
      ]
    },
    {
      "cell_type": "code",
      "source": [
        "from google.colab import auth\n",
        "auth.authenticate_user()\n",
        "\n",
        "# Then set your GCP project explicitly:\n",
        "PROJECT_ID = \"gifted-country-461816-i9\"\n",
        "\n",
        "# If you’re using %bigquery magic, set it like this:\n",
        "%env GOOGLE_CLOUD_PROJECT=gifted-country-461816-i9"
      ],
      "metadata": {
        "id": "3oYSlKAOPKqW"
      },
      "execution_count": null,
      "outputs": []
    },
    {
      "cell_type": "markdown",
      "source": [
        "# Data Exploration & Preparation"
      ],
      "metadata": {
        "id": "e2h10g2xyFQP"
      }
    },
    {
      "cell_type": "markdown",
      "source": [
        "## Events data in GA4\n",
        "\n"
      ],
      "metadata": {
        "id": "VUrC-4ZMIQAD"
      }
    },
    {
      "cell_type": "code",
      "source": [
        "query = \"\"\"\n",
        "SELECT event_name , COUNT(*)\n",
        "FROM `gifted-country-461816-i9.ga4_sample_data.events_*`\n",
        "GROUP BY event_name\n",
        "ORDER BY COUNT(*) DESC\n",
        "\n",
        "\"\"\"\n",
        "\n",
        "df = client.query(query).to_dataframe()\n",
        "display(df)"
      ],
      "metadata": {
        "id": "DdREXyH-G23l"
      },
      "execution_count": null,
      "outputs": []
    },
    {
      "cell_type": "markdown",
      "source": [
        "##Pearson Correlation with events"
      ],
      "metadata": {
        "id": "agt8Mucwy09T"
      }
    },
    {
      "cell_type": "code",
      "source": [
        "query = \"\"\"\n",
        "SELECT\n",
        "  user_pseudo_id,\n",
        "  event_name,\n",
        "  COUNT(*) AS event_count\n",
        "FROM\n",
        "  `gifted-country-461816-i9.ga4_sample_data.events_*`\n",
        "GROUP BY\n",
        "  user_pseudo_id, event_name\n",
        "ORDER BY COUNT(*) DESC\n",
        "\"\"\"\n",
        "\n",
        "df_raw = client.query(query).to_dataframe()\n",
        "\n",
        "# Step 2: Pivot events into wide format (columns = event types)\n",
        "df_pivot = df_raw.pivot_table(index='user_pseudo_id',\n",
        "                               columns='event_name',\n",
        "                               values='event_count',\n",
        "                               fill_value=0)\n",
        "\n",
        "# Step 3: Compute correlation matrix\n",
        "corr_matrix = df_pivot.corr(method='pearson')\n",
        "\n",
        "# Step 4: Plot heatmap\n",
        "plt.figure(figsize=(12, 10))\n",
        "sns.heatmap(corr_matrix, annot=True, fmt=\".2f\", cmap='coolwarm', center=0)\n",
        "plt.title(\"Pearson Correlation Between Event Types\")\n",
        "plt.tight_layout()\n",
        "plt.show()"
      ],
      "metadata": {
        "id": "MoArz2dSEAOV"
      },
      "execution_count": null,
      "outputs": []
    },
    {
      "cell_type": "markdown",
      "source": [
        "## User Demographics"
      ],
      "metadata": {
        "id": "ROhql_guzYdb"
      }
    },
    {
      "cell_type": "code",
      "source": [
        "query = \"\"\"\n",
        "SELECT geo.country,\n",
        "COUNT(DISTINCT CONCAT(user_pseudo_id,event_bundle_sequence_id)) AS sessions_count ,\n",
        "COUNT(DISTINCT user_pseudo_id) AS user_count ,\n",
        "COUNT(DISTINCT CONCAT(user_pseudo_id,event_bundle_sequence_id))/COUNT(DISTINCT user_pseudo_id) AS Sessions_per_Users\n",
        "\n",
        "FROM `gifted-country-461816-i9.ga4_sample_data.events_*`\n",
        "GROUP BY geo.country\n",
        "ORDER BY COUNT(DISTINCT CONCAT(user_pseudo_id,event_bundle_sequence_id)) DESC\n",
        "\n",
        "\"\"\"\n",
        "\n",
        "df = client.query(query).to_dataframe()\n",
        "display(df)"
      ],
      "metadata": {
        "id": "9bpNSby5ITE7"
      },
      "execution_count": null,
      "outputs": []
    },
    {
      "cell_type": "markdown",
      "source": [
        "# Feature Engineering"
      ],
      "metadata": {
        "id": "FnadfUcryNjK"
      }
    },
    {
      "cell_type": "markdown",
      "source": [
        "To make it simply, we will predict whether the users are covnerted from first seesions and then use it to as an indication"
      ],
      "metadata": {
        "id": "Zn3-QhjmOFfS"
      }
    },
    {
      "cell_type": "markdown",
      "source": [
        "Approach:\n",
        "\n",
        "-Determine the first sessions users engaged with the website by MIN(event_timestamp) or user_first_touch_stamp\n",
        "\n",
        "-Build the customer behaviour with events under multiple sessions or only 1\n",
        "\n",
        "-Combine Behavioural and Demographics data with user_id for prediction"
      ],
      "metadata": {
        "id": "XVsRzQcP0ax5"
      }
    },
    {
      "cell_type": "code",
      "source": [
        "%%bigquery df --project gifted-country-461816-i9\n",
        "---Find out the first sessions user visit\n",
        "WITH first_time_user AS(\n",
        "SELECT\n",
        "  user_pseudo_id,\n",
        "  MIN(event_timestamp) AS first_time,\n",
        "  CONCAT(user_pseudo_id,MIN(event_timestamp)),\n",
        "  COUNT(*)\n",
        "FROM `gifted-country-461816-i9.ga4_sample_data.events_*`\n",
        "WHERE event_name = 'page_view'\n",
        "GROUP BY user_pseudo_id\n",
        ")\n",
        "--- Return 1 when user have the purchase in the same sessions\n",
        "--- user_pseudo_id , label\n",
        "--- WHERE: first sessions\n",
        "\n",
        "\n",
        "SELECT\n",
        "  CONCATE(user_pseudo_id,first_time),\n",
        "  CASE WHEN event_name = 'Purchase' THEN 1 ELSE 0 END\n",
        "FROM `gifted-country-461816-i9.ga4_sample_data.events_*` a\n",
        "JOIN first_time_user ft ON\n",
        "CONCAT(a.user_pseudo_id,MIN(a.event_timestamp)) = CONCAT(ft.user_pseudo_id,ft.first_time)\n",
        "\n",
        "\n"
      ],
      "metadata": {
        "id": "P5C6uWfzOMKG"
      },
      "execution_count": null,
      "outputs": []
    },
    {
      "cell_type": "code",
      "source": [
        "display(df)"
      ],
      "metadata": {
        "id": "qoryeq4APwHz"
      },
      "execution_count": null,
      "outputs": []
    },
    {
      "cell_type": "code",
      "source": [
        "%%bigquery df --project gifted-country-461816-i9\n",
        "SELECT\n",
        "  user_pseudo_id,\n",
        "  TIMESTAMP_MICROS(MIN(event_timestamp)) AS first_time,\n",
        "  TIMESTAMP_MICROS(user_first_touch_timestamp)AS user_first_touch_timestamp\n",
        "FROM `gifted-country-461816-i9.ga4_sample_data.events_*`\n",
        "WHERE event_name = 'page_view'\n",
        "GROUP BY user_pseudo_id,TIMESTAMP_MICROS(user_first_touch_timestamp)\n",
        "LIMIT 10"
      ],
      "metadata": {
        "id": "PYpO9Cfd14ND"
      },
      "execution_count": null,
      "outputs": []
    },
    {
      "cell_type": "code",
      "source": [
        "display(df)"
      ],
      "metadata": {
        "id": "z5Nk0k011_ko"
      },
      "execution_count": null,
      "outputs": []
    },
    {
      "cell_type": "markdown",
      "source": [
        "From the result, we can confirm the event_timestamp would equal to user_first_touch_timestamp if this is the first time customer enter the site"
      ],
      "metadata": {
        "id": "_MZorTln-mms"
      }
    },
    {
      "cell_type": "markdown",
      "source": [
        "In GA4, the typical approach will be to combine User pseudo id with Sessions id to find the earliest and we would consider consent status as well\n"
      ],
      "metadata": {
        "id": "eyGxx64Ss9KE"
      }
    },
    {
      "cell_type": "code",
      "source": [
        "%%bigquery df --project gifted-country-461816-i9\n",
        "---first sessions start time\n",
        "SELECT\n",
        "    user_pseudo_id,\n",
        "    (SELECT value.int_value\n",
        "     FROM UNNEST(event_params)\n",
        "     WHERE key = 'ga_session_id' ) AS session_id,\n",
        "    MIN(event_timestamp) AS session_start_time,\n",
        "    user_first_touch_timestamp\n",
        "  FROM `gifted-country-461816-i9.ga4_sample_data.events_*`\n",
        "  WHERE event_name = 'page_view'\n",
        "  GROUP BY user_pseudo_id, session_id,user_first_touch_timestamp\n",
        "  ORDER BY session_start_time ASC"
      ],
      "metadata": {
        "id": "m_lVedRF46U4"
      },
      "execution_count": null,
      "outputs": []
    },
    {
      "cell_type": "code",
      "source": [
        "display(df)"
      ],
      "metadata": {
        "id": "7VvztYWo5ABL"
      },
      "execution_count": null,
      "outputs": []
    },
    {
      "cell_type": "code",
      "source": [
        "%%bigquery df --project gifted-country-461816-i9\n",
        "---Step 1: Find out the first sessions user visit period\n",
        "---Step 2: ues the WHERE clause, only include those first sessions, and count the event\n",
        "\n",
        "WITH first_time_sessions AS(\n",
        "SELECT\n",
        "  CONCAT(user_pseudo_id,\n",
        "  (SELECT value.int_value FROM UNNEST(event_params) where key = 'ga_session_id')\n",
        "  ) AS first_user_id_and_session\n",
        "FROM `gifted-country-461816-i9.ga4_sample_data.events_*`\n",
        "WHERE event_name = 'page_view' AND event_timestamp = user_first_touch_timestamp\n",
        ")\n",
        "\n",
        "SELECT\n",
        "m.user_pseudo_id,\n",
        "COUNTIF(event_name = 'page_view') AS page_view_count,\n",
        "COUNTIF(event_name = 'view_item') AS view_item_count,\n",
        "COUNTIF(event_name = 'add_to_cart') AS add_to_cart_count,\n",
        "COUNTIF(event_name = 'scroll') AS scroll_count,\n",
        "FROM `gifted-country-461816-i9.ga4_sample_data.events_*` m\n",
        "JOIN first_time_sessions f\n",
        "ON CONCAT(m.user_pseudo_id,\n",
        "  (SELECT value.int_value FROM UNNEST(event_params) where key = 'ga_session_id')\n",
        "  )  = f.first_user_id_and_session\n",
        "GROUP BY m.user_pseudo_id\n",
        "ORDER BY page_view_count DESC,view_item_count DESC,add_to_cart_count DESC,scroll_count DESC\n",
        "\n"
      ],
      "metadata": {
        "id": "pwAAZeb31maX"
      },
      "execution_count": null,
      "outputs": []
    },
    {
      "cell_type": "code",
      "source": [
        "display(df)"
      ],
      "metadata": {
        "id": "dV017-FV2cXN"
      },
      "execution_count": null,
      "outputs": []
    },
    {
      "cell_type": "markdown",
      "source": [
        "\n",
        "### Double check the work from the above for the highest activity user"
      ],
      "metadata": {
        "id": "GXgvmhfc79dZ"
      }
    },
    {
      "cell_type": "code",
      "source": [
        "%%bigquery df --project gifted-country-461816-i9\n",
        "---Double check the work from the above for the highest activity user\n",
        "\n",
        "WITH first_time_sessions AS(\n",
        "SELECT\n",
        "  CONCAT(user_pseudo_id,\n",
        "  (SELECT value.int_value FROM UNNEST(event_params) where key = 'ga_session_id')\n",
        "  ) AS first_user_id_and_session\n",
        "FROM `gifted-country-461816-i9.ga4_sample_data.events_*`\n",
        "WHERE event_name = 'page_view' AND event_timestamp = user_first_touch_timestamp\n",
        ")\n",
        "\n",
        "SELECT\n",
        "m.user_pseudo_id,\n",
        "event_name,\n",
        "(SELECT value.int_value FROM UNNEST(event_params) where key = 'ga_session_id')\n",
        "FROM `gifted-country-461816-i9.ga4_sample_data.events_*` m\n",
        "JOIN first_time_sessions f\n",
        "ON CONCAT(m.user_pseudo_id,\n",
        "  (SELECT value.int_value FROM UNNEST(event_params) where key = 'ga_session_id')\n",
        "  )  = f.first_user_id_and_session\n",
        "WHERE m.user_pseudo_id = '23345428.2948094181'"
      ],
      "metadata": {
        "id": "9F0ykcR67Mus"
      },
      "execution_count": null,
      "outputs": []
    },
    {
      "cell_type": "code",
      "source": [
        "display(df)"
      ],
      "metadata": {
        "id": "EMihnm_G7tdN"
      },
      "execution_count": null,
      "outputs": []
    },
    {
      "cell_type": "markdown",
      "source": [
        "## To consider more than ther first sessions behaviour, we start ranking the sessions and gather the user behaviour"
      ],
      "metadata": {
        "id": "25csaueY7IQ5"
      }
    },
    {
      "cell_type": "code",
      "source": [
        "%%bigquery df --project gifted-country-461816-i9\n",
        "-- with first_session start time\n",
        "WITH session_start_times AS (\n",
        "  SELECT\n",
        "    user_pseudo_id,\n",
        "    (SELECT value.int_value FROM UNNEST(event_params) WHERE key = 'ga_session_id') AS session_id,\n",
        "    MIN(event_timestamp) AS session_start_time\n",
        "  FROM `gifted-country-461816-i9.ga4_sample_data.events_*`\n",
        "  WHERE event_name = 'page_view'\n",
        "  GROUP BY user_pseudo_id, session_id\n",
        "\n",
        "),\n",
        "\n",
        "-- Rank sessions by time per user\n",
        "ranked_sessions AS (\n",
        "  SELECT\n",
        "    user_pseudo_id,\n",
        "    session_id,\n",
        "    session_start_time,\n",
        "    RANK() OVER (PARTITION BY user_pseudo_id ORDER BY session_start_time ASC) AS session_rank\n",
        "  FROM session_start_times\n",
        ")\n",
        "\n",
        "-- Get only second session or LESS\n",
        "SELECT *\n",
        "FROM ranked_sessions\n",
        "WHERE session_rank <= 2\n",
        "ORDER BY user_pseudo_id ,session_rank ASC\n",
        "\n"
      ],
      "metadata": {
        "id": "0jedGl0UJ0OI"
      },
      "execution_count": null,
      "outputs": []
    },
    {
      "cell_type": "code",
      "source": [
        "display(df)"
      ],
      "metadata": {
        "id": "Ria6odJeJ9Uw"
      },
      "execution_count": null,
      "outputs": []
    },
    {
      "cell_type": "code",
      "source": [
        "%%bigquery df --project gifted-country-461816-i9\n",
        "-- with first_session start time\n",
        "WITH session_start_times AS (\n",
        "  SELECT\n",
        "    user_pseudo_id,\n",
        "    (SELECT value.int_value FROM UNNEST(event_params) WHERE key = 'ga_session_id') AS session_id,\n",
        "    MIN(event_timestamp) AS session_start_time\n",
        "  FROM `gifted-country-461816-i9.ga4_sample_data.events_*`\n",
        "  WHERE event_name = 'page_view'\n",
        "  GROUP BY user_pseudo_id, session_id\n",
        "\n",
        "),\n",
        "\n",
        "-- Rank sessions by time per user\n",
        "ranked_sessions AS (\n",
        "  SELECT\n",
        "    user_pseudo_id,\n",
        "    session_id,\n",
        "    session_start_time,\n",
        "    RANK() OVER (PARTITION BY user_pseudo_id ORDER BY session_start_time ASC) AS session_rank\n",
        "  FROM session_start_times\n",
        "),\n",
        "\n",
        "user_firsttwo_sessions AS(\n",
        "-- Get only second session or less\n",
        "SELECT *\n",
        "FROM ranked_sessions\n",
        "WHERE session_rank <= 2\n",
        "ORDER BY user_pseudo_id ,session_rank ASC\n",
        ")\n",
        "\n",
        "SELECT\n",
        "m.user_pseudo_id,\n",
        "COUNTIF(event_name = 'page_view') AS page_view_count,\n",
        "COUNTIF(event_name = 'view_item') AS view_item_count,\n",
        "COUNTIF(event_name = 'add_to_cart') AS add_to_cart_count,\n",
        "COUNTIF(event_name = 'scroll') AS scroll_count,\n",
        "SUM(CAST((SELECT value.int_value\n",
        "            FROM UNNEST(event_params)\n",
        "            WHERE key = 'engagement_time_msec') AS INT64)) AS total_engagement_time_msec,\n",
        "CASE WHEN (COUNTIF (event_name = 'purchase') >= 1 ) THEN 1 ELSE 0 END AS will_buy_on_firsttwo_Sessions\n",
        "FROM `gifted-country-461816-i9.ga4_sample_data.events_*` m\n",
        "JOIN user_firsttwo_sessions f\n",
        "ON (SELECT value.int_value FROM UNNEST(event_params) where key = 'ga_session_id')\n",
        "  = f.session_id\n",
        "GROUP BY m.user_pseudo_id\n",
        "ORDER BY will_buy_on_firsttwo_Sessions DESC , page_view_count DESC,view_item_count DESC,add_to_cart_count DESC,scroll_count DESC\n",
        "\n"
      ],
      "metadata": {
        "id": "mqQfT7NP_LLT"
      },
      "execution_count": null,
      "outputs": []
    },
    {
      "cell_type": "code",
      "source": [
        "display(df)"
      ],
      "metadata": {
        "id": "DC6jVh6z_voI"
      },
      "execution_count": null,
      "outputs": []
    },
    {
      "cell_type": "markdown",
      "source": [
        "## Comparsion with purchaser and non-purchasesr under 2 sessions"
      ],
      "metadata": {
        "id": "MJXKRm3N-eHA"
      }
    },
    {
      "cell_type": "code",
      "source": [
        "%%bigquery df --project gifted-country-461816-i9\n",
        "-- with first_session start time\n",
        "WITH session_start_times AS (\n",
        "  SELECT\n",
        "    user_pseudo_id,\n",
        "    (SELECT value.int_value FROM UNNEST(event_params) WHERE key = 'ga_session_id') AS session_id,\n",
        "    MIN(event_timestamp) AS session_start_time\n",
        "  FROM `gifted-country-461816-i9.ga4_sample_data.events_*`\n",
        "  WHERE event_name = 'page_view'\n",
        "  GROUP BY user_pseudo_id, session_id\n",
        "\n",
        "),\n",
        "\n",
        "-- Rank sessions by time per user\n",
        "ranked_sessions AS (\n",
        "  SELECT\n",
        "    user_pseudo_id,\n",
        "    session_id,\n",
        "    session_start_time,\n",
        "    RANK() OVER (PARTITION BY user_pseudo_id ORDER BY session_start_time ASC) AS session_rank\n",
        "  FROM session_start_times\n",
        "),\n",
        "\n",
        "user_firsttwo_sessions AS(\n",
        "-- Get only second session or less\n",
        "SELECT *\n",
        "FROM ranked_sessions\n",
        "WHERE session_rank <= 2\n",
        "ORDER BY user_pseudo_id ,session_rank ASC\n",
        "),\n",
        "\n",
        "user_profiling AS(\n",
        "SELECT\n",
        "m.user_pseudo_id,\n",
        "COUNTIF(event_name = 'page_view') AS page_view_count,\n",
        "COUNTIF(event_name = 'view_item') AS view_item_count,\n",
        "COUNTIF(event_name = 'add_to_cart') AS add_to_cart_count,\n",
        "COUNTIF(event_name = 'scroll') AS scroll_count,\n",
        "CASE WHEN (COUNTIF (event_name = 'purchase') >= 1 ) THEN 1 ELSE 0 END AS will_buy_on_firsttwo_Sessions\n",
        "FROM `gifted-country-461816-i9.ga4_sample_data.events_*` m\n",
        "JOIN user_firsttwo_sessions f\n",
        "ON (SELECT value.int_value FROM UNNEST(event_params) where key = 'ga_session_id')\n",
        "  = f.session_id\n",
        "GROUP BY m.user_pseudo_id\n",
        "ORDER BY will_buy_on_firsttwo_Sessions DESC , page_view_count DESC,view_item_count DESC,add_to_cart_count DESC,scroll_count DESC\n",
        ")\n",
        "\n",
        "SELECT will_buy_on_firsttwo_Sessions, COUNT(*)\n",
        "FROM user_profiling\n",
        "GROUP BY will_buy_on_firsttwo_Sessions\n"
      ],
      "metadata": {
        "id": "bviWyj855r8I"
      },
      "execution_count": null,
      "outputs": []
    },
    {
      "cell_type": "code",
      "source": [
        "display(df)"
      ],
      "metadata": {
        "id": "12rfRWLr5s0Y"
      },
      "execution_count": null,
      "outputs": []
    },
    {
      "cell_type": "markdown",
      "source": [
        "### From the result, the % of purchaser is 3247/(266559+3247) = 1.2% purchasers."
      ],
      "metadata": {
        "id": "8EZVg3fF2zmD"
      }
    },
    {
      "cell_type": "markdown",
      "source": [
        "### As the % purchasesr is quiet low, i have go ahead and widen the criteria with the sessions to 4"
      ],
      "metadata": {
        "id": "JQqnM-st3OCs"
      }
    },
    {
      "cell_type": "markdown",
      "source": [
        "## Comparsion with purchaser and non-purchasesr under 4 sessions"
      ],
      "metadata": {
        "id": "W1SIrn4v-jWd"
      }
    },
    {
      "cell_type": "code",
      "source": [
        "%%bigquery df --project gifted-country-461816-i9\n",
        "-- with first_session start time\n",
        "WITH session_start_times AS (\n",
        "  SELECT\n",
        "    user_pseudo_id,\n",
        "    (SELECT value.int_value FROM UNNEST(event_params) WHERE key = 'ga_session_id') AS session_id,\n",
        "    MIN(event_timestamp) AS session_start_time\n",
        "  FROM `gifted-country-461816-i9.ga4_sample_data.events_*`\n",
        "  WHERE event_name = 'page_view'\n",
        "  GROUP BY user_pseudo_id, session_id\n",
        "\n",
        "),\n",
        "\n",
        "-- Rank sessions by time per user\n",
        "ranked_sessions AS (\n",
        "  SELECT\n",
        "    user_pseudo_id,\n",
        "    session_id,\n",
        "    session_start_time,\n",
        "    RANK() OVER (PARTITION BY user_pseudo_id ORDER BY session_start_time ASC) AS session_rank\n",
        "  FROM session_start_times\n",
        "),\n",
        "\n",
        "user_firsttwo_sessions AS(\n",
        "-- Get only second session or less\n",
        "SELECT *\n",
        "FROM ranked_sessions\n",
        "WHERE session_rank <= 4\n",
        "ORDER BY user_pseudo_id ,session_rank ASC\n",
        "),\n",
        "\n",
        "user_profiling AS(\n",
        "SELECT\n",
        "m.user_pseudo_id,\n",
        "COUNTIF(event_name = 'page_view') AS page_view_count,\n",
        "COUNTIF(event_name = 'view_item') AS view_item_count,\n",
        "COUNTIF(event_name = 'add_to_cart') AS add_to_cart_count,\n",
        "COUNTIF(event_name = 'user_engagement') AS user_engagement_count,\n",
        "COUNTIF(event_name = 'scroll') AS scroll_count,\n",
        "CASE WHEN (COUNTIF (event_name = 'purchase') >= 1 ) THEN 1 ELSE 0 END AS will_buy_on_firstfour_Sessions\n",
        "FROM `gifted-country-461816-i9.ga4_sample_data.events_*` m\n",
        "JOIN user_firsttwo_sessions f\n",
        "ON (SELECT value.int_value FROM UNNEST(event_params) where key = 'ga_session_id')\n",
        "  = f.session_id\n",
        "GROUP BY m.user_pseudo_id\n",
        ")\n",
        "\n",
        "SELECT will_buy_on_firstfour_Sessions, COUNT(*)\n",
        "FROM user_profiling\n",
        "GROUP BY will_buy_on_firstfour_Sessions\n"
      ],
      "metadata": {
        "id": "c9YnS2dmBjmT"
      },
      "execution_count": null,
      "outputs": []
    },
    {
      "cell_type": "code",
      "source": [
        "display(df)"
      ],
      "metadata": {
        "id": "XGUjxYlqBsrA"
      },
      "execution_count": null,
      "outputs": []
    },
    {
      "cell_type": "markdown",
      "source": [
        "## From the result, the % of purchaser is higher 4069/ (265737+4069) = 1.51% purchasers."
      ],
      "metadata": {
        "id": "JxY8r6Ta2mi6"
      }
    },
    {
      "cell_type": "markdown",
      "source": [
        "# Model Creation"
      ],
      "metadata": {
        "id": "TxzTceiMDIb9"
      }
    },
    {
      "cell_type": "markdown",
      "source": [
        "From the initial feature engineering, there are less behavioural data planned and later the model has been further fine-tuned\n",
        "\n",
        "\n",
        "### 🎯 Label:\n",
        "- `label`: 1 if the user triggered a **purchase event** in their first 4 sessions, 0 otherwise.\n",
        "\n",
        "### 🧠 Features used for prediction:\n",
        "\n",
        "#### 🧍‍♂️ User Behavior:\n",
        "- `page_view_count`\n",
        "- `view_item_count`\n",
        "- `scroll_count`\n",
        "- `user_engagement_count`\n",
        "- `add_to_cart_count`\n",
        "- `view_promotion_count`\n",
        "- `total_engagement_time_msec` (New)\n",
        "\n",
        "#### 🌍 Demographics & Technology:\n",
        "- `device_category` (e.g., desktop, mobile) (New)\n",
        "- `country` (geo-location during first session) (New)\n",
        "- Unforunately we cannot include channel and source and medium as it is hiddne in the sample data\n",
        "\n",
        "👉 Users with no `view_item`, `page_view`` activity were excluded to focus on **meaningfully engaged users**."
      ],
      "metadata": {
        "id": "nDc3e2_ci1d0"
      }
    },
    {
      "cell_type": "code",
      "source": [
        "%%bigquery df --project gifted-country-461816-i9\n",
        "\n",
        "CREATE OR REPLACE TABLE `gifted-country-461816-i9.ga4_sample_data.ml_prepareddata` AS (\n",
        "\n",
        "WITH events_flat AS (\n",
        "  SELECT\n",
        "    user_pseudo_id,\n",
        "    event_timestamp,\n",
        "    (SELECT value.int_value\n",
        "     FROM UNNEST(event_params)\n",
        "     WHERE key = 'ga_session_id' LIMIT 1) AS session_id\n",
        "  FROM\n",
        "    `gifted-country-461816-i9.ga4_sample_data.events_*`\n",
        "  WHERE\n",
        "    event_name = 'page_view'\n",
        "),\n",
        "\n",
        "-- One row per session per user, with session start time\n",
        "session_start_times AS (\n",
        "  SELECT\n",
        "    user_pseudo_id,\n",
        "    session_id,\n",
        "    MIN(event_timestamp) AS session_start_time\n",
        "  FROM events_flat\n",
        "  WHERE session_id IS NOT NULL\n",
        "  GROUP BY user_pseudo_id, session_id\n",
        "),\n",
        "\n",
        "-- Rank sessions by time per user\n",
        "ranked_sessions AS (\n",
        "  SELECT\n",
        "    user_pseudo_id,\n",
        "    session_id,\n",
        "    session_start_time,\n",
        "    RANK() OVER (PARTITION BY user_pseudo_id ORDER BY session_start_time ASC) AS session_rank\n",
        "  FROM session_start_times\n",
        "),\n",
        "\n",
        "user_firsttwo_sessions AS(\n",
        "-- Get only second session or less\n",
        "SELECT *\n",
        "FROM ranked_sessions\n",
        "WHERE session_rank <=4\n",
        "ORDER BY user_pseudo_id ,session_rank ASC\n",
        "),\n",
        "user_metadata AS (\n",
        "  SELECT\n",
        "    user_pseudo_id,\n",
        "    device.category AS device_category,\n",
        "    geo.country AS country\n",
        "  FROM (\n",
        "    SELECT *,\n",
        "      RANK() OVER (PARTITION BY user_pseudo_id ORDER BY event_timestamp ASC) AS session_rank\n",
        "    FROM `gifted-country-461816-i9.ga4_sample_data.events_*`\n",
        "    WHERE event_name = 'session_start'\n",
        "  )\n",
        "  WHERE session_rank = 1\n",
        ")\n",
        "\n",
        "SELECT\n",
        "m.user_pseudo_id,\n",
        "--Behavioural data\n",
        "COUNTIF(event_name = 'page_view') AS page_view_count,\n",
        "COUNTIF(event_name = 'view_item') AS view_item_count,\n",
        "COUNTIF(event_name = 'scroll') AS scroll_count,\n",
        "COUNTIF(event_name = 'user_engagement') AS user_engagement_count,\n",
        "COUNTIF(event_name = 'add_to_cart') AS add_to_cart_count,\n",
        "COUNTIF(event_name = 'view_promotion') AS view_promotion_count,\n",
        "SUM(CAST((SELECT value.int_value\n",
        "            FROM UNNEST(event_params)\n",
        "            WHERE key = 'engagement_time_msec') AS INT64)) AS total_engagement_time_msec,\n",
        "--demographic\n",
        "  um.device_category AS device_category,\n",
        "  um.country AS country,\n",
        "\n",
        "--label\n",
        "CASE WHEN (COUNTIF (event_name = 'purchase') >= 1 ) THEN 1 ELSE 0 END AS label\n",
        "FROM `gifted-country-461816-i9.ga4_sample_data.events_*` m\n",
        "JOIN user_firsttwo_sessions f\n",
        "ON (SELECT value.int_value FROM UNNEST(event_params) where key = 'ga_session_id')\n",
        "  = f.session_id\n",
        "LEFT JOIN user_metadata um\n",
        "ON  m.user_pseudo_id = um.user_pseudo_id\n",
        "GROUP BY m.user_pseudo_id,um.device_category, um.country\n",
        "HAVING view_item_count > 0 AND page_view_count > 0\n",
        ")\n",
        "\n"
      ],
      "metadata": {
        "id": "xAg9b3YXDDxl"
      },
      "execution_count": null,
      "outputs": []
    },
    {
      "cell_type": "code",
      "source": [
        "%%bigquery df --project gifted-country-461816-i9\n",
        "\n",
        "CREATE OR REPLACE MODEL `gifted-country-461816-i9.ga4_sample_data.model`\n",
        "OPTIONS(\n",
        "  model_type='logistic_reg',\n",
        "  auto_class_weights=TRUE,\n",
        "  input_label_cols=['label']\n",
        ")\n",
        "AS\n",
        "SELECT\n",
        "  page_view_count,\n",
        "  view_item_count,\n",
        "  scroll_count,\n",
        "  add_to_cart_count,\n",
        "  total_engagement_time_msec,\n",
        "  user_engagement_count,\n",
        "  view_promotion_count,\n",
        "  device_category,\n",
        "  country,\n",
        "  label\n",
        "FROM `gifted-country-461816-i9.ga4_sample_data.ml_prepareddata`"
      ],
      "metadata": {
        "id": "68GE5iZqcXBx"
      },
      "execution_count": null,
      "outputs": []
    },
    {
      "cell_type": "markdown",
      "source": [
        "# Model Evaluation"
      ],
      "metadata": {
        "id": "YzAfdPKjkhf7"
      }
    },
    {
      "cell_type": "code",
      "source": [
        "%%bigquery df --project gifted-country-461816-i9\n",
        "\n",
        "SELECT *\n",
        "FROM ML.EVALUATE(\n",
        "  MODEL `gifted-country-461816-i9.ga4_sample_data.model`)"
      ],
      "metadata": {
        "id": "S9fo0SL8kWn_"
      },
      "execution_count": null,
      "outputs": []
    },
    {
      "cell_type": "code",
      "source": [
        "display(df)"
      ],
      "metadata": {
        "id": "ZLjMj2eDkfaW"
      },
      "execution_count": null,
      "outputs": []
    },
    {
      "cell_type": "markdown",
      "source": [
        "## 📊 Model Evaluation Results\n",
        "\n",
        "| Metric       | Value   |\n",
        "|--------------|---------|\n",
        "| Precision    | 0.5944  |\n",
        "| Recall       | 0.6556  |\n",
        "| Accuracy     | 0.8268  |\n",
        "| F1 Score     | 0.6235  |\n",
        "| Log Loss     | 0.4527  |\n",
        "| ROC AUC      | 0.8737  |\n",
        "\n",
        "---\n",
        "\n",
        "### 🔍 Key Takeaways:\n",
        "✅ **High Accuracy (83%)**  \n",
        "> Most predictions are correct (Both Positive and Negatives). Strong generalisation\n",
        "\n",
        "⚖️ **Balanced Precision & Recall**  \n",
        "> Captures ~66% of purchasers (recall), and 59% of positive predictions are correct (precision).\n",
        "> Recall shows we are able to find purchasers better, while maybe less as precision to get it right\n",
        "> Work further to obtain a higher precision and recall\n",
        "\n",
        "✅ **Strong ROC AUC (0.87)**  \n",
        "> The model does a great job ranking likely purchasers — it is likely to rank a real buyer higher than non-buyer.\n",
        "ideal for targeting and prioritisation.\n",
        "\n",
        "🔁 **Improved F1 Score (~0.62)**  \n",
        "> Indicates a fair balance between false positives and false negatives.\n"
      ],
      "metadata": {
        "id": "4z0s6xWQ4zOW"
      }
    },
    {
      "cell_type": "markdown",
      "source": [
        "#Model Prediction"
      ],
      "metadata": {
        "id": "ZZfUuMU0Dcaz"
      }
    },
    {
      "cell_type": "code",
      "source": [
        "query = \"\"\"\n",
        "CREATE OR REPLACE TABLE `gifted-country-461816-i9.ga4_sample_data.model_predictions` AS\n",
        "SELECT\n",
        "  predicted_label,\n",
        "  label\n",
        "FROM\n",
        "  ML.PREDICT(\n",
        "    MODEL `gifted-country-461816-i9.ga4_sample_data.model`,\n",
        "    TABLE `gifted-country-461816-i9.ga4_sample_data.ml_prepareddata`\n",
        "  )\n",
        "\n",
        "\"\"\"\n",
        "\n",
        "# Run the query\n",
        "query_job = client.query(query)\n",
        "query_job.result()  # Wait for job to finish\n",
        "print(\"Table created successfully.\")"
      ],
      "metadata": {
        "id": "AeD5azuf7Ax7"
      },
      "execution_count": null,
      "outputs": []
    },
    {
      "cell_type": "code",
      "source": [
        "query = \"\"\"\n",
        "SELECT predicted_label, label\n",
        "FROM `gifted-country-461816-i9.ga4_sample_data.model_predictions`\n",
        "\"\"\"\n",
        "df = client.query(query).to_dataframe()"
      ],
      "metadata": {
        "id": "f2G7-_1X7LQw"
      },
      "execution_count": null,
      "outputs": []
    },
    {
      "cell_type": "code",
      "source": [
        "from sklearn.metrics import confusion_matrix, ConfusionMatrixDisplay\n",
        "\n",
        "# Ensure data is in int format\n",
        "y_true = df['label'].astype(int)\n",
        "y_pred = df['predicted_label'].astype(int)\n",
        "\n",
        "# Generate the confusion matrix\n",
        "cm = confusion_matrix(y_true, y_pred)\n",
        "\n",
        "# Display it with labels\n",
        "disp = ConfusionMatrixDisplay(confusion_matrix=cm, display_labels=[\"No Purchase\", \"Purchase\"])\n",
        "disp.plot(cmap='Blues')"
      ],
      "metadata": {
        "id": "-PHOxsPN6z1z"
      },
      "execution_count": null,
      "outputs": []
    },
    {
      "cell_type": "code",
      "source": [
        "%%bigquery df --project gifted-country-461816-i9\n",
        "\n",
        "\n",
        "SELECT\n",
        "  user_pseudo_id,\n",
        "  page_view_count,\n",
        "  view_item_count,\n",
        "  scroll_count,\n",
        "  user_engagement_count,\n",
        "  view_promotion_count,\n",
        "  total_engagement_time_msec,\n",
        "  device_category,\n",
        "  country,\n",
        "  predicted_label,\n",
        "  predicted_label_probs[SAFE_OFFSET(1)].prob AS purchase_probability\n",
        "\n",
        "FROM ML.PREDICT(\n",
        "  MODEL `gifted-country-461816-i9.ga4_sample_data.model`,\n",
        "  (\n",
        "    -- New customers feature data here, e.g. last day (20210131)\n",
        "WITH events_flat AS (\n",
        "  SELECT\n",
        "    user_pseudo_id,\n",
        "    event_timestamp,\n",
        "    (SELECT value.int_value\n",
        "     FROM UNNEST(event_params)\n",
        "     WHERE key = 'ga_session_id' LIMIT 1) AS session_id\n",
        "  FROM\n",
        "    `gifted-country-461816-i9.ga4_sample_data.events_*`\n",
        "  WHERE\n",
        "    event_name = 'page_view'\n",
        "    AND _table_suffix = '20210131'\n",
        "),\n",
        "\n",
        "-- One row per session per user, with session start time\n",
        "session_start_times AS (\n",
        "  SELECT\n",
        "    user_pseudo_id,\n",
        "    session_id,\n",
        "    MIN(event_timestamp) AS session_start_time\n",
        "  FROM events_flat\n",
        "  WHERE session_id IS NOT NULL\n",
        "  GROUP BY user_pseudo_id, session_id\n",
        "),\n",
        "\n",
        "-- Rank sessions by time per user\n",
        "ranked_sessions AS (\n",
        "  SELECT\n",
        "    user_pseudo_id,\n",
        "    session_id,\n",
        "    session_start_time,\n",
        "    RANK() OVER (PARTITION BY user_pseudo_id ORDER BY session_start_time ASC) AS session_rank\n",
        "  FROM session_start_times\n",
        "),\n",
        "\n",
        "user_firsttwo_sessions AS(\n",
        "SELECT *\n",
        "FROM ranked_sessions\n",
        "WHERE session_rank <=4 -- Get only 4 session or less\n",
        "ORDER BY user_pseudo_id ,session_rank ASC\n",
        "),\n",
        "user_metadata AS (\n",
        "  SELECT\n",
        "    user_pseudo_id,\n",
        "    device.category        AS device_category,\n",
        "    geo.country            AS country\n",
        "  FROM (\n",
        "    SELECT *,\n",
        "      RANK() OVER (PARTITION BY user_pseudo_id ORDER BY event_timestamp ASC) AS session_rank\n",
        "    FROM `gifted-country-461816-i9.ga4_sample_data.events_*`\n",
        "    WHERE event_name = 'session_start'\n",
        "  )\n",
        "  WHERE session_rank = 1\n",
        ")\n",
        "\n",
        "SELECT\n",
        "m.user_pseudo_id,\n",
        "--Behavioural data\n",
        "COUNTIF(event_name = 'page_view') AS page_view_count,\n",
        "COUNTIF(event_name = 'view_item') AS view_item_count,\n",
        "COUNTIF(event_name = 'scroll') AS scroll_count,\n",
        "COUNTIF(event_name = 'user_engagement') AS user_engagement_count,\n",
        "COUNTIF(event_name = 'add_to_cart') AS add_to_cart_count,\n",
        "COUNTIF(event_name = 'view_promotion') AS view_promotion_count,\n",
        "SUM(CAST((SELECT value.int_value\n",
        "            FROM UNNEST(event_params)\n",
        "            WHERE key = 'engagement_time_msec') AS INT64)) AS total_engagement_time_msec,\n",
        "--demographic\n",
        "  um.device_category AS device_category,\n",
        "  um.country AS country,\n",
        "\n",
        "--label\n",
        "CASE WHEN (COUNTIF (event_name = 'purchase') >= 1 ) THEN 1 ELSE 0 END AS label\n",
        "FROM `gifted-country-461816-i9.ga4_sample_data.events_*` m\n",
        "JOIN user_firsttwo_sessions f\n",
        "ON (SELECT value.int_value FROM UNNEST(event_params) where key = 'ga_session_id')\n",
        "  = f.session_id\n",
        "LEFT JOIN user_metadata um\n",
        "ON  m.user_pseudo_id = um.user_pseudo_id\n",
        "GROUP BY m.user_pseudo_id,um.device_category, um.country\n",
        "\n",
        "  )\n",
        ")\n",
        "\n",
        "ORDER BY predicted_label DESC , purchase_probability DESC\n"
      ],
      "metadata": {
        "id": "kddhcR8X_2X8"
      },
      "execution_count": null,
      "outputs": []
    },
    {
      "cell_type": "code",
      "source": [
        "display(df)"
      ],
      "metadata": {
        "id": "yai8clTlBnHW"
      },
      "execution_count": null,
      "outputs": []
    },
    {
      "cell_type": "markdown",
      "source": [
        "#Recommendations & Next Steps"
      ],
      "metadata": {
        "id": "EvuA-P6O-Omp"
      }
    },
    {
      "cell_type": "markdown",
      "source": [
        "### 🎯 Model Refinement\n",
        "- **Tune the classification threshold** (not just 0.5) to better balance precision and recall depending on your business objective (e.g. acquisition vs retention).\n",
        "- **Reweight classes** to account for class imbalance (e.g. <2% of users made a purchase), improving the model’s sensitivity to rare events.\n",
        "\n",
        "---\n",
        "\n",
        "### 🧠 Feature Refinement\n",
        "- **Normalise or log-transform** `total_engagement_time_msec` to reduce skew and improve model fit.\n",
        "- **Create interaction features** such as `view_item_count * engagement_time` to capture user intensity.\n",
        "- **Bin features** like `add_to_cart_count` into tiers to model behavioural stages (e.g. low, medium, high intent).\n",
        "- **Integrate CRM tags or loyalty programme signals** to enrich understanding of customer type.\n",
        "\n",
        "---\n",
        "\n",
        "### ➕ Add More Contextual Features\n",
        "- **Include digital marketing attributes** such as `traffic_source.medium`, `traffic_source.source`, and `utm_campaign` for acquisition insights. *(Note: not available in the current sample dataset.)*\n",
        "- **Add session-level temporal features** such as `day_of_week`, `hour_of_day`, or `session_duration`.\n",
        "\n",
        "---\n",
        "\n",
        "### 🔄 Segment-Specific Modelling\n",
        "- Train separate models by key segments such as:\n",
        "  - `device.category` (e.g. mobile vs desktop)\n",
        "  - `geo.country` or `geo.region`\n",
        "- This captures behavioural nuances that may differ significantly across user cohorts.\n",
        "\n",
        "---\n",
        "\n",
        "### 📈 Business Applications\n",
        "Leverage model predictions to drive real-world value:\n",
        "- **Trigger remarketing campaigns** or personalised email sequences.\n",
        "- **Tailor homepage/product suggestions** based on predicted conversion likelihood.\n",
        "- **Identify high-potential visitors** for loyalty or incentive programmes.\n"
      ],
      "metadata": {
        "id": "-eZ8KhynG1cf"
      }
    },
    {
      "cell_type": "code",
      "source": [
        "from google.colab import output\n",
        "output.enable_custom_widget_manager()"
      ],
      "metadata": {
        "id": "4zwDZfEjOaZv"
      },
      "execution_count": null,
      "outputs": []
    },
    {
      "cell_type": "markdown",
      "source": [
        "Support for third party widgets will remain active for the duration of the session. To disable support:"
      ],
      "metadata": {
        "id": "Lm9359ijOaZv"
      }
    },
    {
      "cell_type": "code",
      "source": [
        "from google.colab import output\n",
        "output.disable_custom_widget_manager()"
      ],
      "metadata": {
        "id": "hXNBZw4OOaZv"
      },
      "execution_count": null,
      "outputs": []
    }
  ]
}